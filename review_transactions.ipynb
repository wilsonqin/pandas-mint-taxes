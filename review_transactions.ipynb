{
 "cells": [
  {
   "cell_type": "code",
   "execution_count": null,
   "metadata": {
    "collapsed": false
   },
   "outputs": [],
   "source": [
    "import pandas as pd\n",
    "\n",
    "# TODO: move your MINT.com transactions.csv into this project directory\n",
    "# / the directory where you are running jupyter notebook\n",
    "PATH_TO_YOUR_TRANSACTIONS = \"transactions.csv\"\n",
    "\n",
    "df = pd.DataFrame.from_csv(PATH_TO_YOUR_TRANSACTIONS)"
   ]
  },
  {
   "cell_type": "code",
   "execution_count": null,
   "metadata": {
    "collapsed": false
   },
   "outputs": [],
   "source": [
    "## Create a Dataframe view for only 2016 year transactions\n",
    "# the leftmost column of the ingested csv file, by default is assumed as your 'index' of the DataFrame\n",
    "# here we filter for all records w. dates less than Jan 1, 2017 and greater than Dec 31, 2015\n",
    "# what is returned: a new view of the DataFrame only with records in this restricted date range\n",
    "y16 = df[(df.index < '2017-01-01') & ( df.index > '2015-12-31')]\n",
    "\n",
    "y16"
   ]
  },
  {
   "cell_type": "code",
   "execution_count": null,
   "metadata": {
    "collapsed": false
   },
   "outputs": [],
   "source": [
    "# Using the Mint 'Rental Car & Taxi' category label, we're going to make a view for all 2016 rental/taxi expenditure\n",
    "rentalcar = y16[y16.Category == \"Rental Car & Taxi\"]\n",
    "\n",
    "rentalcar"
   ]
  },
  {
   "cell_type": "code",
   "execution_count": null,
   "metadata": {
    "collapsed": false
   },
   "outputs": [],
   "source": [
    "## A way to sum-up train/metro/public-transit expenditures\n",
    "# You will want to substitute your public transit specific search strings e.g. \"MBTA\", \"MTA\", \"BART\", \"SUBWAY\"\n",
    "#\n",
    "# Side Note: \n",
    "# If you eat a lot at Subway and if your public transit code contains SUBWAY, \n",
    "# you may be counting sandwiches too in this view :-)\n",
    "MBTA = y16[y16['Original Description'].str.contains(\"MBTA\")]\n",
    "\n",
    "MBTA"
   ]
  },
  {
   "cell_type": "code",
   "execution_count": null,
   "metadata": {
    "collapsed": false
   },
   "outputs": [],
   "source": [
    "## Example of how to quickly sum up the 'Amount' columns for several different views.\n",
    "MBTA.Amount.sum() + rentalcar.Amount.sum()"
   ]
  },
  {
   "cell_type": "code",
   "execution_count": null,
   "metadata": {
    "collapsed": false
   },
   "outputs": [],
   "source": [
    "## What if we want to figure out travel expenses for a business trip to San Francisco\n",
    "sf_transport = y16[(y16.index > '2016-06-24') & (y16.index < '2016-07-05')]\n",
    "sf_transport.Amount.sum()"
   ]
  },
  {
   "cell_type": "code",
   "execution_count": null,
   "metadata": {
    "collapsed": true
   },
   "outputs": [],
   "source": []
  }
 ],
 "metadata": {
  "kernelspec": {
   "display_name": "Python 2",
   "language": "python",
   "name": "python2"
  },
  "language_info": {
   "codemirror_mode": {
    "name": "ipython",
    "version": 2
   },
   "file_extension": ".py",
   "mimetype": "text/x-python",
   "name": "python",
   "nbconvert_exporter": "python",
   "pygments_lexer": "ipython2",
   "version": "2.7.11"
  }
 },
 "nbformat": 4,
 "nbformat_minor": 0
}
